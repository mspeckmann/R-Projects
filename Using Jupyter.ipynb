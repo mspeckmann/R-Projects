{
 "cells": [
  {
   "cell_type": "markdown",
   "metadata": {},
   "source": [
    "# CS 544 Module 2 Assignment\n",
    "Melinda Speckmann"
   ]
  },
  {
   "cell_type": "code",
   "execution_count": 1,
   "metadata": {},
   "outputs": [
    {
     "ename": "ERROR",
     "evalue": "Error in library(prob): ‘prob’ is not a valid installed package\n",
     "output_type": "error",
     "traceback": [
      "Error in library(prob): ‘prob’ is not a valid installed package\nTraceback:\n",
      "1. library(prob)",
      "2. stop(gettextf(\"%s is not a valid installed package\", sQuote(package)), \n .     domain = NA)"
     ]
    }
   ],
   "source": [
    "library(prob)"
   ]
  },
  {
   "cell_type": "markdown",
   "metadata": {},
   "source": [
    "### Part 1 Probability"
   ]
  },
  {
   "cell_type": "markdown",
   "metadata": {},
   "source": [
    "**A. From the Bayes’ rule example given in Section 3.10, compute the probabilities that a randomly selected non-smoker i) has lung disease and ii) does not have lung disease. Show the calculations without using R. Then, verify with the bayes function provided in the samples.**"
   ]
  },
  {
   "cell_type": "markdown",
   "metadata": {},
   "source": [
    "P(A<sub>1</sub>) = 0.07 -> Population has lung disease\n",
    "P(A<sub>2</sub>) = 0.93 -> Population does not have lung disease\n",
    "\n",
    "B -> person selected is a smoker\n",
    "C -> person selected is a non-smoker\n",
    "\n",
    "P(B|A<sub>1</sub>) = 0.9 -> Among those with lung disease, those that are smokers\n",
    "\n",
    "P(C|A<sub>1</sub>) = 0.1 -> Among those with lung disease, those that are non-smokers\n",
    "\n",
    "P(B|A<sub>2</sub>) = 0.25 -> Among those who do not have lung disease, those that are smokers\n",
    "\n",
    "P(C|A<sub>2</sub>) = 0.75 -> Among those who do not have lung disease, those that are non-smokers\n",
    "\n",
    "i. Probability of selecting a non-smoker who has lung disease. P(A<sub>1</sub>|C)\n",
    "\n",
    "$$P(A_1|C) = \\frac{P(A_1)P(C|A_1)}{P(A_1)P(C|A_1)+P(A_2)P(C|A_2)}$$\n",
    "\n",
    "$$P(A_1|C) = \\frac{0.07*0.1}{(0.07*0.1)+(0.93*0.75)} = 0.00994$$\n",
    "\n",
    "ii. Probability of selecting a non-smoker who does not have lung disease P(A<sub>2</sub>|C)\n",
    "\n",
    "$$P(A_2|C) = \\frac{P(A_2)P(C|A_2)}{P(A_1)P(C|A_1)+P(A_2)P(C|A_2)}$$\n",
    "$$P(A_1|C) = \\frac{0.93*0.75}{(0.07*0.1)+(0.93*0.75)} = 0.99006$$\n"
   ]
  },
  {
   "cell_type": "code",
   "execution_count": 12,
   "metadata": {},
   "outputs": [
    {
     "data": {
      "text/html": [
       "<ol class=list-inline>\n",
       "\t<li>0.0099361249112846</li>\n",
       "\t<li>0.990063875088715</li>\n",
       "</ol>\n"
      ],
      "text/latex": [
       "\\begin{enumerate*}\n",
       "\\item 0.0099361249112846\n",
       "\\item 0.990063875088715\n",
       "\\end{enumerate*}\n"
      ],
      "text/markdown": [
       "1. 0.0099361249112846\n",
       "2. 0.990063875088715\n",
       "\n",
       "\n"
      ],
      "text/plain": [
       "[1] 0.009936125 0.990063875"
      ]
     },
     "metadata": {},
     "output_type": "display_data"
    }
   ],
   "source": [
    "#validate above calculations by using function in R\n",
    "bayes <- function (prior, likelihood) {\n",
    "  numerators <- prior * likelihood\n",
    "  return (numerators / sum(numerators)) \n",
    "}\n",
    "\n",
    "lung_disease <- c(0.07, 0.93)\n",
    "smoker <- c(0.1, 0.75)\n",
    "bayes(lung_disease, smoker)"
   ]
  },
  {
   "cell_type": "markdown",
   "metadata": {},
   "source": [
    "** B. Suppose that in a particular state, among the registered voters, 45% are democrats, 50 % are republicans, and the rest are independents. Suppose that a ballot question is whether to impose sales tax on internet purchases or not. Suppose that 70% of democrats, 40% of republicans, and 20% of independents favor the sales tax. If a person is chosen at random that favors the sales tax, what is the probability that the person is i) a democrat? ii) a republican, iii) an independent. Show the solutions with the calculations without using R. Then, verify with the bayes function provided in the samples.**"
   ]
  },
  {
   "cell_type": "markdown",
   "metadata": {},
   "source": [
    "P(A<sub>1</sub>)=0.45 -> Person is a democrat \n",
    "\n",
    "P(A<sub>2</sub>)=0.5  -> Person is a republican \n",
    "\n",
    "P(A<sub>3</sub>)=0.05 -> Person is a independent \n",
    "\n",
    "B -> Person selected is in favor of sales tax \n",
    "\n",
    "P(B|A<sub>1</sub>)=0.70 -> Percentage of democrats in favor \n",
    "\n",
    "P(B|A<sub>2</sub>)=0.40  -> Percentage of republicans in favor \n",
    "\n",
    "P(B|A<sub>3</sub>)=0.20 -> Percentage of independents in favor \n",
    "\n",
    "i. Probability of a democrat being chosen given the person is in favor of sales tax.\n",
    "\n",
    "$$P(A_1|B) = \\frac{P(A_1)P(B|A_1)}{P(A_1)P(B|A_1)+P(A_2)P(B|A_2)+P(A_3)P(B|A_3)}$$\n",
    "\n",
    "$$P(A_1|B) = \\frac{0.45*0.7}{(0.45*0.7)+(0.5*0.4)+(0.05*0.2)} = 0.6$$\n",
    "\n",
    "ii. Probability of a republican being chosen given the person is in favor of sales tax.\n",
    "\n",
    "$$P(A_2|B) = \\frac{P(A_2)P(B|A_2)}{P(A_1)P(B|A_1)+P(A_2)P(B|A_2)+P(A_3)P(B|A_3)}$$\n",
    "\n",
    "$$P(A_2|B) = \\frac{0.5*0.4}{(0.45*0.7)+(0.5*0.4)+(0.05*0.2)} = 0.381$$\n",
    "\n",
    "iii. Probability of an independent being chosen given the person is in favor of sales tax.\n",
    "\n",
    "$$P(A_3|B) = \\frac{P(A_3)P(B|A_3)}{P(A_1)P(B|A_1)+P(A_2)P(B|A_2)+P(A_3)P(B|A_3)}$$\n",
    "\n",
    "$$P(A_3|B) = \\frac{0.05*0.2}{(0.45*0.7)+(0.5*0.4)+(0.05*0.2)} = 0.019$$\n",
    "\n",
    "\n"
   ]
  },
  {
   "cell_type": "code",
   "execution_count": 15,
   "metadata": {},
   "outputs": [
    {
     "data": {
      "text/html": [
       "<ol class=list-inline>\n",
       "\t<li>0.6</li>\n",
       "\t<li>0.380952380952381</li>\n",
       "\t<li>0.019047619047619</li>\n",
       "</ol>\n"
      ],
      "text/latex": [
       "\\begin{enumerate*}\n",
       "\\item 0.6\n",
       "\\item 0.380952380952381\n",
       "\\item 0.019047619047619\n",
       "\\end{enumerate*}\n"
      ],
      "text/markdown": [
       "1. 0.6\n",
       "2. 0.380952380952381\n",
       "3. 0.019047619047619\n",
       "\n",
       "\n"
      ],
      "text/plain": [
       "[1] 0.60000000 0.38095238 0.01904762"
      ]
     },
     "metadata": {},
     "output_type": "display_data"
    }
   ],
   "source": [
    "#validate above calculations by using function in R\n",
    "bayes <- function (prior, likelihood) {\n",
    "  numerators <- prior * likelihood\n",
    "  return (numerators / sum(numerators)) \n",
    "}\n",
    "\n",
    "party_affil <- c(0.45, 0.5, 0.05)\n",
    "supporter <- c(0.7, 0.4, 0.2)\n",
    "bayes(party_affil, supporter)"
   ]
  },
  {
   "cell_type": "markdown",
   "metadata": {},
   "source": [
    "### Part 2 Random Variables"
   ]
  },
  {
   "cell_type": "markdown",
   "metadata": {},
   "source": [
    "**A. Consider the experiment of rolling a pair of dice. Using R, show how would you define a random variable for the absolute value of the difference of the two rolls, using a user-defined function.**"
   ]
  },
  {
   "cell_type": "code",
   "execution_count": 7,
   "metadata": {},
   "outputs": [
    {
     "ename": "ERROR",
     "evalue": "Error in rolldie(2, makespace = TRUE): could not find function \"rolldie\"\n",
     "output_type": "error",
     "traceback": [
      "Error in rolldie(2, makespace = TRUE): could not find function \"rolldie\"\nTraceback:\n"
     ]
    }
   ],
   "source": [
    "#rolling a pair of dice\n",
    "S <- rolldie(2, makespace = TRUE)\n",
    "\n",
    "#finding the difference between vector elements and taking the absolute value\n",
    "abs_value <- function(x) {return (abs(diff(x)))}\n",
    "S <- addrv(S, FUN = abs_value, name = \"U\")\n",
    "S\n",
    "\n",
    "\n"
   ]
  },
  {
   "cell_type": "markdown",
   "metadata": {},
   "source": [
    "**B. Using the above result, what is the probability that the two rolls differ by exactly 3? What is the probability that the two rolls differ by at most 3? What is the probability that the two rolls differ by at least 3? Use the Prob function of R.**"
   ]
  },
  {
   "cell_type": "code",
   "execution_count": 87,
   "metadata": {},
   "outputs": [
    {
     "data": {
      "text/html": [
       "<span style=white-space:pre-wrap>'Prob is exactly 3:  0.166666666666667'</span>"
      ],
      "text/latex": [
       "'Prob is exactly 3:  0.166666666666667'"
      ],
      "text/markdown": [
       "<span style=white-space:pre-wrap>'Prob is exactly 3:  0.166666666666667'</span>"
      ],
      "text/plain": [
       "[1] \"Prob is exactly 3:  0.166666666666667\""
      ]
     },
     "metadata": {},
     "output_type": "display_data"
    },
    {
     "data": {
      "text/html": [
       "<span style=white-space:pre-wrap>'Prob is at most 3:  0.833333333333333'</span>"
      ],
      "text/latex": [
       "'Prob is at most 3:  0.833333333333333'"
      ],
      "text/markdown": [
       "<span style=white-space:pre-wrap>'Prob is at most 3:  0.833333333333333'</span>"
      ],
      "text/plain": [
       "[1] \"Prob is at most 3:  0.833333333333333\""
      ]
     },
     "metadata": {},
     "output_type": "display_data"
    },
    {
     "data": {
      "text/html": [
       "<span style=white-space:pre-wrap>'Prob is atleast 3:  0.333333333333333'</span>"
      ],
      "text/latex": [
       "'Prob is atleast 3:  0.333333333333333'"
      ],
      "text/markdown": [
       "<span style=white-space:pre-wrap>'Prob is atleast 3:  0.333333333333333'</span>"
      ],
      "text/plain": [
       "[1] \"Prob is atleast 3:  0.333333333333333\""
      ]
     },
     "metadata": {},
     "output_type": "display_data"
    }
   ],
   "source": [
    "paste(\"Prob is exactly 3: \",Prob(S, U == 3)) #probabaility rolls differ by exactly 3\n",
    "paste(\"Prob is at most 3: \",Prob(S, U <= 3)) #probabaility rolls differ by at most 3\n",
    "paste(\"Prob is atleast 3: \",Prob(S, U >= 3)) #probabaility rolls differ by at least 3"
   ]
  },
  {
   "cell_type": "markdown",
   "metadata": {
    "collapsed": true
   },
   "source": [
    "**C. Show the marginal distribution of the above random variable (using R).**"
   ]
  },
  {
   "cell_type": "code",
   "execution_count": 88,
   "metadata": {},
   "outputs": [
    {
     "data": {
      "text/html": [
       "<table>\n",
       "<thead><tr><th scope=col>U</th><th scope=col>probs</th></tr></thead>\n",
       "<tbody>\n",
       "\t<tr><td>0         </td><td>0.16666667</td></tr>\n",
       "\t<tr><td>1         </td><td>0.27777778</td></tr>\n",
       "\t<tr><td>2         </td><td>0.22222222</td></tr>\n",
       "\t<tr><td>3         </td><td>0.16666667</td></tr>\n",
       "\t<tr><td>4         </td><td>0.11111111</td></tr>\n",
       "\t<tr><td>5         </td><td>0.05555556</td></tr>\n",
       "</tbody>\n",
       "</table>\n"
      ],
      "text/latex": [
       "\\begin{tabular}{r|ll}\n",
       " U & probs\\\\\n",
       "\\hline\n",
       "\t 0          & 0.16666667\\\\\n",
       "\t 1          & 0.27777778\\\\\n",
       "\t 2          & 0.22222222\\\\\n",
       "\t 3          & 0.16666667\\\\\n",
       "\t 4          & 0.11111111\\\\\n",
       "\t 5          & 0.05555556\\\\\n",
       "\\end{tabular}\n"
      ],
      "text/markdown": [
       "\n",
       "U | probs | \n",
       "|---|---|---|---|---|---|\n",
       "| 0          | 0.16666667 | \n",
       "| 1          | 0.27777778 | \n",
       "| 2          | 0.22222222 | \n",
       "| 3          | 0.16666667 | \n",
       "| 4          | 0.11111111 | \n",
       "| 5          | 0.05555556 | \n",
       "\n",
       "\n"
      ],
      "text/plain": [
       "  U probs     \n",
       "1 0 0.16666667\n",
       "2 1 0.27777778\n",
       "3 2 0.22222222\n",
       "4 3 0.16666667\n",
       "5 4 0.11111111\n",
       "6 5 0.05555556"
      ]
     },
     "metadata": {},
     "output_type": "display_data"
    }
   ],
   "source": [
    "marginal(S, vars = \"U\")"
   ]
  },
  {
   "cell_type": "markdown",
   "metadata": {},
   "source": [
    "**D. Using R, add another random variable to the above probability space using a user defined function. The random variable is TRUE if the sum of the two rolls is greater than 6, and FALSE otherwise. What is the probability that the sum of the two rolls is greater than 6? Show also the marginal distribution for this random variable.**"
   ]
  },
  {
   "cell_type": "code",
   "execution_count": 6,
   "metadata": {},
   "outputs": [
    {
     "ename": "ERROR",
     "evalue": "Error in addrv(S, FUN = sum_6, name = \"V\"): could not find function \"addrv\"\n",
     "output_type": "error",
     "traceback": [
      "Error in addrv(S, FUN = sum_6, name = \"V\"): could not find function \"addrv\"\nTraceback:\n"
     ]
    }
   ],
   "source": [
    "S <- rolldie(2, makespace = TRUE)\n",
    "sum_6 <- function(x){if (sum(x) > 6) {TRUE} else {FALSE}}\n",
    "S <- addrv(S, FUN = sum_6, name = \"V\")\n",
    "S\n",
    "paste(\"Prob # is greater than 6: \",Prob(S, V == TRUE))\n",
    "paste(\"Prob # is less than or equal to 6: \",Prob(S, V == FALSE))\n",
    "marginal(S, vars = \"V\")"
   ]
  },
  {
   "cell_type": "markdown",
   "metadata": {},
   "source": [
    "### Part 3 Random Functions\n",
    "\n",
    "**Write your own R function, all.primes(n), that returns a vector of all the prime numbers up to n (inclusive).**\n",
    "\n"
   ]
  },
  {
   "cell_type": "code",
   "execution_count": 3,
   "metadata": {},
   "outputs": [
    {
     "data": {
      "text/html": [
       "<ol class=list-inline>\n",
       "\t<li>2</li>\n",
       "\t<li>3</li>\n",
       "\t<li>5</li>\n",
       "\t<li>7</li>\n",
       "\t<li>11</li>\n",
       "\t<li>13</li>\n",
       "</ol>\n"
      ],
      "text/latex": [
       "\\begin{enumerate*}\n",
       "\\item 2\n",
       "\\item 3\n",
       "\\item 5\n",
       "\\item 7\n",
       "\\item 11\n",
       "\\item 13\n",
       "\\end{enumerate*}\n"
      ],
      "text/markdown": [
       "1. 2\n",
       "2. 3\n",
       "3. 5\n",
       "4. 7\n",
       "5. 11\n",
       "6. 13\n",
       "\n",
       "\n"
      ],
      "text/plain": [
       "[1]  2  3  5  7 11 13"
      ]
     },
     "metadata": {},
     "output_type": "display_data"
    },
    {
     "data": {
      "text/html": [
       "<ol class=list-inline>\n",
       "\t<li>2</li>\n",
       "\t<li>3</li>\n",
       "\t<li>5</li>\n",
       "\t<li>7</li>\n",
       "\t<li>11</li>\n",
       "\t<li>13</li>\n",
       "\t<li>17</li>\n",
       "\t<li>19</li>\n",
       "\t<li>23</li>\n",
       "\t<li>29</li>\n",
       "\t<li>31</li>\n",
       "\t<li>37</li>\n",
       "\t<li>41</li>\n",
       "\t<li>43</li>\n",
       "\t<li>47</li>\n",
       "\t<li>53</li>\n",
       "\t<li>59</li>\n",
       "\t<li>61</li>\n",
       "\t<li>67</li>\n",
       "\t<li>71</li>\n",
       "\t<li>73</li>\n",
       "\t<li>79</li>\n",
       "\t<li>83</li>\n",
       "\t<li>89</li>\n",
       "\t<li>97</li>\n",
       "</ol>\n"
      ],
      "text/latex": [
       "\\begin{enumerate*}\n",
       "\\item 2\n",
       "\\item 3\n",
       "\\item 5\n",
       "\\item 7\n",
       "\\item 11\n",
       "\\item 13\n",
       "\\item 17\n",
       "\\item 19\n",
       "\\item 23\n",
       "\\item 29\n",
       "\\item 31\n",
       "\\item 37\n",
       "\\item 41\n",
       "\\item 43\n",
       "\\item 47\n",
       "\\item 53\n",
       "\\item 59\n",
       "\\item 61\n",
       "\\item 67\n",
       "\\item 71\n",
       "\\item 73\n",
       "\\item 79\n",
       "\\item 83\n",
       "\\item 89\n",
       "\\item 97\n",
       "\\end{enumerate*}\n"
      ],
      "text/markdown": [
       "1. 2\n",
       "2. 3\n",
       "3. 5\n",
       "4. 7\n",
       "5. 11\n",
       "6. 13\n",
       "7. 17\n",
       "8. 19\n",
       "9. 23\n",
       "10. 29\n",
       "11. 31\n",
       "12. 37\n",
       "13. 41\n",
       "14. 43\n",
       "15. 47\n",
       "16. 53\n",
       "17. 59\n",
       "18. 61\n",
       "19. 67\n",
       "20. 71\n",
       "21. 73\n",
       "22. 79\n",
       "23. 83\n",
       "24. 89\n",
       "25. 97\n",
       "\n",
       "\n"
      ],
      "text/plain": [
       " [1]  2  3  5  7 11 13 17 19 23 29 31 37 41 43 47 53 59 61 67 71 73 79 83 89 97"
      ]
     },
     "metadata": {},
     "output_type": "display_data"
    }
   ],
   "source": [
    "all.primes <- function(n) {\n",
    "  y <- vector()\n",
    "  for (i in 2:n){if (i == 2)\n",
    "  {y <- c(y, i)}\n",
    "    \n",
    "    else if (any(i %% y == 0))\n",
    "    {}\n",
    "    else\n",
    "    {y <- c(y, i)}}\n",
    "  return (y)\n",
    "}\n",
    "\n",
    "all.primes(15)\n",
    "all.primes(100)"
   ]
  },
  {
   "cell_type": "code",
   "execution_count": null,
   "metadata": {},
   "outputs": [],
   "source": []
  }
 ],
 "metadata": {
  "kernelspec": {
   "display_name": "R",
   "language": "R",
   "name": "ir"
  },
  "language_info": {
   "codemirror_mode": "r",
   "file_extension": ".r",
   "mimetype": "text/x-r-source",
   "name": "R",
   "pygments_lexer": "r",
   "version": "3.4.2"
  }
 },
 "nbformat": 4,
 "nbformat_minor": 2
}
